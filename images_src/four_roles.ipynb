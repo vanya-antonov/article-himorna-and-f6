{
 "cells": [
  {
   "cell_type": "code",
   "execution_count": 2,
   "metadata": {},
   "outputs": [
    {
     "name": "stdout",
     "output_type": "stream",
     "text": [
      "lncRNAId\tlncRNAName\tour\tour_p\tour_m\tfantom\tfantom_p\tfantom_m\tintersection\tmm_intersection\tmp_intersection\tpm_intersection\tpp_intersection\n",
      "ENSG00000229852_ASO_G0229852_05\tRP11-398K22.12\t1376\t884\t502\t112\t15\t97\t18\t2\t2\t14\t0\n",
      "ENSG00000229852_ASO_G0229852_03\tRP11-398K22.12\t1376\t884\t502\t1028\t432\t596\t86\t20\t14\t43\t10\n",
      "ENSG00000229852_ASO_G0229852_AD_01\tRP11-398K22.12\t1376\t884\t502\t3\t2\t1\t1\t0\t0\t1\t0\n",
      "lncRNAId\tlncRNAName\tpvalue\tmm_pvalue\tmp_pvalue\tpm_pvalue\tpp_pvalue\n",
      "ENSG00000229852_ASO_G0229852_05\tRP11-398K22.12\t0.00015872632353190242\t1.0\t0.18784005572006668\t3.903002885970757e-05\t1.0\n",
      "ENSG00000229852_ASO_G0229852_03\tRP11-398K22.12\t0.000494804906776989\t0.07098412305104422\t0.299873488952345\t6.38947887013619e-05\t0.8172112452872375\n",
      "lncRNAId\tlncRNAName\tour\tour_p\tour_m\tfantom\tfantom_p\tfantom_m\tintersection\tmm_intersection\tmp_intersection\tpm_intersection\tpp_intersection\n",
      "ENSG00000229852_ASO_G0229852_03\tRP11-398K22.12\t1376\t884\t502\t1028\t432\t596\t86\t20\t14\t43\t10\n",
      "lncRNAId\tlncRNAName\tpvalue\tmm_pvalue\tmp_pvalue\tpm_pvalue\tpp_pvalue\n",
      "ENSG00000229852_ASO_G0229852_03\tRP11-398K22.12\t0.000494804906776989\t0.07098412305104422\t0.299873488952345\t6.38947887013619e-05\t0.8172112452872375\n",
      "\tTP\tFP\tFN\tTN\tmm_TP\tmm_FP\tmm_FN\tmm_TN\tmp_TP\tmp_FP\tmp_FN\tmp_TN\tpm_TP\tpm_FP\tpm_FN\tpm_TN\tpp_TP\tpp_FP\tpp_FN\tpp_TN\n"
     ]
    },
    {
     "ename": "CalledProcessError",
     "evalue": "Command 'b\"cd ../data/all_marks\\n\\n# Get statistics for HiMoRNA and FANTOM6 genes (and their overlap, i.e. Genya' confusion matrix counts)\\nhead -n 1  H3K27ac/our_fantom_fantom_aso_genes_association.tsv\\ngrep 'RP11-398K22.12'  H3K27ac/our_fantom_fantom_aso_genes_association.tsv\\n\\nhead -n 1  H3K27ac/our_fantom_fantom_aso_genes_association_pvalues.tsv\\ngrep 'RP11-398K22.12'  H3K27ac/our_fantom_fantom_aso_genes_association_pvalues.tsv\\n\\n\\nhead -n 1  H3K27ac/our_fantom_fantom_aso_genes_association.tsv\\ngrep 'ASO_G0229852_03'  H3K27ac/our_fantom_fantom_aso_genes_association.tsv\\n\\nhead -n 1  H3K27ac/our_fantom_fantom_aso_genes_association_pvalues.tsv\\ngrep 'ASO_G0229852_03'  H3K27ac/our_fantom_fantom_aso_genes_association_pvalues.tsv\\n\\nhead -n 1  H3K27ac/our_fantom_fantom_aso_genes_confusion_matrix.tsv\\ngrep 'ASO_G0229852_03'  H3K27ac/our_fantom_fantom_aso_genes_confusion_matrix.tsv\\n\"' returned non-zero exit status 1.",
     "output_type": "error",
     "traceback": [
      "\u001b[0;31m---------------------------------------------------------------------------\u001b[0m",
      "\u001b[0;31mCalledProcessError\u001b[0m                        Traceback (most recent call last)",
      "Cell \u001b[0;32mIn[2], line 1\u001b[0m\n\u001b[0;32m----> 1\u001b[0m get_ipython()\u001b[39m.\u001b[39;49mrun_cell_magic(\u001b[39m'\u001b[39;49m\u001b[39mbash\u001b[39;49m\u001b[39m'\u001b[39;49m, \u001b[39m'\u001b[39;49m\u001b[39m'\u001b[39;49m, \u001b[39m\"\u001b[39;49m\u001b[39mcd ../data/all_marks\u001b[39;49m\u001b[39m\\n\u001b[39;49;00m\u001b[39m\\n\u001b[39;49;00m\u001b[39m# Get statistics for HiMoRNA and FANTOM6 genes (and their overlap, i.e. Genya\u001b[39;49m\u001b[39m'\u001b[39;49m\u001b[39m confusion matrix counts)\u001b[39;49m\u001b[39m\\n\u001b[39;49;00m\u001b[39mhead -n 1  H3K27ac/our_fantom_fantom_aso_genes_association.tsv\u001b[39;49m\u001b[39m\\n\u001b[39;49;00m\u001b[39mgrep \u001b[39;49m\u001b[39m'\u001b[39;49m\u001b[39mRP11-398K22.12\u001b[39;49m\u001b[39m'\u001b[39;49m\u001b[39m  H3K27ac/our_fantom_fantom_aso_genes_association.tsv\u001b[39;49m\u001b[39m\\n\u001b[39;49;00m\u001b[39m\\n\u001b[39;49;00m\u001b[39mhead -n 1  H3K27ac/our_fantom_fantom_aso_genes_association_pvalues.tsv\u001b[39;49m\u001b[39m\\n\u001b[39;49;00m\u001b[39mgrep \u001b[39;49m\u001b[39m'\u001b[39;49m\u001b[39mRP11-398K22.12\u001b[39;49m\u001b[39m'\u001b[39;49m\u001b[39m  H3K27ac/our_fantom_fantom_aso_genes_association_pvalues.tsv\u001b[39;49m\u001b[39m\\n\u001b[39;49;00m\u001b[39m\\n\u001b[39;49;00m\u001b[39m\\n\u001b[39;49;00m\u001b[39mhead -n 1  H3K27ac/our_fantom_fantom_aso_genes_association.tsv\u001b[39;49m\u001b[39m\\n\u001b[39;49;00m\u001b[39mgrep \u001b[39;49m\u001b[39m'\u001b[39;49m\u001b[39mASO_G0229852_03\u001b[39;49m\u001b[39m'\u001b[39;49m\u001b[39m  H3K27ac/our_fantom_fantom_aso_genes_association.tsv\u001b[39;49m\u001b[39m\\n\u001b[39;49;00m\u001b[39m\\n\u001b[39;49;00m\u001b[39mhead -n 1  H3K27ac/our_fantom_fantom_aso_genes_association_pvalues.tsv\u001b[39;49m\u001b[39m\\n\u001b[39;49;00m\u001b[39mgrep \u001b[39;49m\u001b[39m'\u001b[39;49m\u001b[39mASO_G0229852_03\u001b[39;49m\u001b[39m'\u001b[39;49m\u001b[39m  H3K27ac/our_fantom_fantom_aso_genes_association_pvalues.tsv\u001b[39;49m\u001b[39m\\n\u001b[39;49;00m\u001b[39m\\n\u001b[39;49;00m\u001b[39mhead -n 1  H3K27ac/our_fantom_fantom_aso_genes_confusion_matrix.tsv\u001b[39;49m\u001b[39m\\n\u001b[39;49;00m\u001b[39mgrep \u001b[39;49m\u001b[39m'\u001b[39;49m\u001b[39mASO_G0229852_03\u001b[39;49m\u001b[39m'\u001b[39;49m\u001b[39m  H3K27ac/our_fantom_fantom_aso_genes_confusion_matrix.tsv\u001b[39;49m\u001b[39m\\n\u001b[39;49;00m\u001b[39m\"\u001b[39;49m)\n",
      "File \u001b[0;32m~/mambaforge/envs/himorna-env/lib/python3.10/site-packages/IPython/core/interactiveshell.py:2422\u001b[0m, in \u001b[0;36mInteractiveShell.run_cell_magic\u001b[0;34m(self, magic_name, line, cell)\u001b[0m\n\u001b[1;32m   2420\u001b[0m \u001b[39mwith\u001b[39;00m \u001b[39mself\u001b[39m\u001b[39m.\u001b[39mbuiltin_trap:\n\u001b[1;32m   2421\u001b[0m     args \u001b[39m=\u001b[39m (magic_arg_s, cell)\n\u001b[0;32m-> 2422\u001b[0m     result \u001b[39m=\u001b[39m fn(\u001b[39m*\u001b[39;49margs, \u001b[39m*\u001b[39;49m\u001b[39m*\u001b[39;49mkwargs)\n\u001b[1;32m   2423\u001b[0m \u001b[39mreturn\u001b[39;00m result\n",
      "File \u001b[0;32m~/mambaforge/envs/himorna-env/lib/python3.10/site-packages/IPython/core/magics/script.py:153\u001b[0m, in \u001b[0;36mScriptMagics._make_script_magic.<locals>.named_script_magic\u001b[0;34m(line, cell)\u001b[0m\n\u001b[1;32m    151\u001b[0m \u001b[39melse\u001b[39;00m:\n\u001b[1;32m    152\u001b[0m     line \u001b[39m=\u001b[39m script\n\u001b[0;32m--> 153\u001b[0m \u001b[39mreturn\u001b[39;00m \u001b[39mself\u001b[39;49m\u001b[39m.\u001b[39;49mshebang(line, cell)\n",
      "File \u001b[0;32m~/mambaforge/envs/himorna-env/lib/python3.10/site-packages/IPython/core/magics/script.py:305\u001b[0m, in \u001b[0;36mScriptMagics.shebang\u001b[0;34m(self, line, cell)\u001b[0m\n\u001b[1;32m    300\u001b[0m \u001b[39mif\u001b[39;00m args\u001b[39m.\u001b[39mraise_error \u001b[39mand\u001b[39;00m p\u001b[39m.\u001b[39mreturncode \u001b[39m!=\u001b[39m \u001b[39m0\u001b[39m:\n\u001b[1;32m    301\u001b[0m     \u001b[39m# If we get here and p.returncode is still None, we must have\u001b[39;00m\n\u001b[1;32m    302\u001b[0m     \u001b[39m# killed it but not yet seen its return code. We don't wait for it,\u001b[39;00m\n\u001b[1;32m    303\u001b[0m     \u001b[39m# in case it's stuck in uninterruptible sleep. -9 = SIGKILL\u001b[39;00m\n\u001b[1;32m    304\u001b[0m     rc \u001b[39m=\u001b[39m p\u001b[39m.\u001b[39mreturncode \u001b[39mor\u001b[39;00m \u001b[39m-\u001b[39m\u001b[39m9\u001b[39m\n\u001b[0;32m--> 305\u001b[0m     \u001b[39mraise\u001b[39;00m CalledProcessError(rc, cell)\n",
      "\u001b[0;31mCalledProcessError\u001b[0m: Command 'b\"cd ../data/all_marks\\n\\n# Get statistics for HiMoRNA and FANTOM6 genes (and their overlap, i.e. Genya' confusion matrix counts)\\nhead -n 1  H3K27ac/our_fantom_fantom_aso_genes_association.tsv\\ngrep 'RP11-398K22.12'  H3K27ac/our_fantom_fantom_aso_genes_association.tsv\\n\\nhead -n 1  H3K27ac/our_fantom_fantom_aso_genes_association_pvalues.tsv\\ngrep 'RP11-398K22.12'  H3K27ac/our_fantom_fantom_aso_genes_association_pvalues.tsv\\n\\n\\nhead -n 1  H3K27ac/our_fantom_fantom_aso_genes_association.tsv\\ngrep 'ASO_G0229852_03'  H3K27ac/our_fantom_fantom_aso_genes_association.tsv\\n\\nhead -n 1  H3K27ac/our_fantom_fantom_aso_genes_association_pvalues.tsv\\ngrep 'ASO_G0229852_03'  H3K27ac/our_fantom_fantom_aso_genes_association_pvalues.tsv\\n\\nhead -n 1  H3K27ac/our_fantom_fantom_aso_genes_confusion_matrix.tsv\\ngrep 'ASO_G0229852_03'  H3K27ac/our_fantom_fantom_aso_genes_confusion_matrix.tsv\\n\"' returned non-zero exit status 1."
     ]
    }
   ],
   "source": [
    "\n",
    "%%bash\n",
    "cd ../data/all_marks\n",
    "\n",
    "# Get statistics for HiMoRNA and FANTOM6 genes (and their overlap, i.e. Genya' confusion matrix counts)\n",
    "head -n 1  H3K27ac/our_fantom_fantom_aso_genes_association.tsv\n",
    "grep 'RP11-398K22.12'  H3K27ac/our_fantom_fantom_aso_genes_association.tsv\n",
    "\n",
    "head -n 1  H3K27ac/our_fantom_fantom_aso_genes_association_pvalues.tsv\n",
    "grep 'RP11-398K22.12'  H3K27ac/our_fantom_fantom_aso_genes_association_pvalues.tsv\n",
    "\n",
    "\n",
    "head -n 1  H3K27ac/our_fantom_fantom_aso_genes_association.tsv\n",
    "grep 'ASO_G0229852_03'  H3K27ac/our_fantom_fantom_aso_genes_association.tsv\n",
    "\n",
    "head -n 1  H3K27ac/our_fantom_fantom_aso_genes_association_pvalues.tsv\n",
    "grep 'ASO_G0229852_03'  H3K27ac/our_fantom_fantom_aso_genes_association_pvalues.tsv\n",
    "\n",
    "head -n 1  H3K27ac/our_fantom_fantom_aso_genes_confusion_matrix.tsv\n",
    "grep 'ASO_G0229852_03'  H3K27ac/our_fantom_fantom_aso_genes_confusion_matrix.tsv\n"
   ]
  },
  {
   "cell_type": "code",
   "execution_count": 5,
   "metadata": {},
   "outputs": [
    {
     "name": "stdout",
     "output_type": "stream",
     "text": [
      "350 ../data/ASO_names.info\n"
     ]
    }
   ],
   "source": [
    "makeConfusionMatrix(target[0], annotation_prefix=\"fantom_aso\", common_genes_set_length=24701)"
   ]
  },
  {
   "cell_type": "code",
   "execution_count": 3,
   "metadata": {},
   "outputs": [
    {
     "data": {
      "text/plain": [
       "0.00016493496891960925"
      ]
     },
     "execution_count": 3,
     "metadata": {},
     "output_type": "execute_result"
    }
   ],
   "source": [
    "import scipy.stats as stats\n",
    "TP = 86\n",
    "FP = 1290\n",
    "FN = 942\n",
    "TN = 22383\n",
    "_, pv = stats.fisher_exact([[TP, FP], [FN, TN]])\n",
    "pv"
   ]
  },
  {
   "cell_type": "code",
   "execution_count": 7,
   "metadata": {},
   "outputs": [],
   "source": [
    "import pandas as pd\n",
    "import scipy.stats as stats\n",
    "from statsmodels.stats.multitest import multipletests"
   ]
  },
  {
   "cell_type": "code",
   "execution_count": 9,
   "metadata": {},
   "outputs": [],
   "source": [
    "def makeExactFisherTest(target, annotation_prefix=\"\", our_fantom_file_name=\"\"):\n",
    "    annotation_prefix = \"_\" + annotation_prefix if annotation_prefix else \"\"\n",
    "    confuion_df = pd.read_csv(\"../data/all_marks/\" + target + \"/\" + our_fantom_file_name + annotation_prefix + \"_genes_confusion_matrix.tsv\", sep=\"\\t\") \n",
    "    df = pd.read_csv(\"../data/all_marks/\" + target + \"/\" + our_fantom_file_name + annotation_prefix + \"_genes_association.tsv\", sep=\"\\t\") \n",
    "    \n",
    "    pvalue = []\n",
    "    mm_pvalue = []\n",
    "    mp_pvalue = []\n",
    "    pm_pvalue = []\n",
    "    pp_pvalue = []\n",
    "    for index, row in confuion_df.iterrows():\n",
    "        _, pv = stats.fisher_exact([[row['TP'], row['FP']], [row['FN'], row['TN']]])\n",
    "        pvalue.append(pv)\n",
    "\n",
    "        _, mm_pv = stats.fisher_exact([[row['mm_TP'], row['mm_FP']], [row['mm_FN'], row['mm_TN']]])\n",
    "        mm_pvalue.append(mm_pv)\n",
    "\n",
    "        _, mp_pv = stats.fisher_exact([[row['mp_TP'], row['mp_FP']], [row['mp_FN'], row['mp_TN']]])\n",
    "        mp_pvalue.append(mp_pv)\n",
    "\n",
    "        _, pm_pv = stats.fisher_exact([[row['pm_TP'], row['pm_FP']], [row['pm_FN'], row['pm_TN']]])\n",
    "        pm_pvalue.append(pm_pv)\n",
    "\n",
    "        _, pp_pv = stats.fisher_exact([[row['pp_TP'], row['pp_FP']], [row['pp_FN'], row['pp_TN']]])  \n",
    "        pp_pvalue.append(pp_pv)\n",
    "        \n",
    "    adjusted_pvalue = multipletests(pvalue, alpha=0.05, method='fdr_bh')\n",
    "    adjusted_mm_pvalue = multipletests(mm_pvalue, alpha=0.05, method='fdr_bh')\n",
    "    adjusted_mp_pvalue = multipletests(mp_pvalue, alpha=0.05, method='fdr_bh')\n",
    "    adjusted_pm_pvalue = multipletests(pm_pvalue, alpha=0.05, method='fdr_bh')\n",
    "    adjusted_pp_pvalue = multipletests(pp_pvalue, alpha=0.05, method='fdr_bh')\n",
    "    \n",
    "    pvalue_df = pd.DataFrame({'pvalue': adjusted_pvalue[1], 'mm_pvalue': adjusted_mm_pvalue[1], \n",
    "                              'mp_pvalue': adjusted_mp_pvalue[1], 'pm_pvalue': adjusted_pm_pvalue[1], \n",
    "                              'pp_pvalue': adjusted_pp_pvalue[1]})\n",
    "    \n",
    "    df_pv = pd.concat([df[['lncRNAId', 'lncRNAName']], pvalue_df], axis = 1)\n",
    "    df_pv = df_pv[df_pv.apply(lambda row: len([p for p in row.tolist()[3:] if float(p) < 0.05]) != 0, axis=1)]\n",
    "    # df_pv.to_csv(\"../all_marks/\" + target + \"/\" + our_fantom_file_name + annotation_prefix + \"_genes_association_pvalues.tsv\", sep=\"\\t\", index=None)\n",
    "    \n",
    "    return df_pv"
   ]
  },
  {
   "cell_type": "code",
   "execution_count": 4,
   "metadata": {},
   "outputs": [],
   "source": [
    "# targets = [(\"H3K27ac\", \"_narrow\"), (\"H3K36me3\", \"\"), \n",
    "#            (\"H3K4me1\", \"_narrow\"), (\"H3K4me2\", \"_narrow\"), (\"H3K4me3\", \"_narrow\"), (\"H3K79me2\", \"\"), \n",
    "#            (\"H3K9ac\", \"_narrow\"), (\"H3K9me3\", \"\"), (\"H4K20me1\", \"\"), (\"H3K27me3\", \"\"), (\"methylation\", \"\")]"
   ]
  },
  {
   "cell_type": "code",
   "execution_count": 13,
   "metadata": {},
   "outputs": [
    {
     "name": "stdout",
     "output_type": "stream",
     "text": [
      "makeExactTARIDFisherTest...\n"
     ]
    }
   ],
   "source": [
    "# makeConfusionMatrix(target[0], annotation_prefix=\"fantom_aso\", common_genes_set_length=24701)\n",
    "print(\"makeExactTARIDFisherTest...\")\n",
    "df_pv = makeExactFisherTest(\"H3K27ac\", 'fantom_aso', our_fantom_file_name=\"our_fantom\")"
   ]
  },
  {
   "cell_type": "code",
   "execution_count": 16,
   "metadata": {},
   "outputs": [
    {
     "data": {
      "text/html": [
       "<div>\n",
       "<style scoped>\n",
       "    .dataframe tbody tr th:only-of-type {\n",
       "        vertical-align: middle;\n",
       "    }\n",
       "\n",
       "    .dataframe tbody tr th {\n",
       "        vertical-align: top;\n",
       "    }\n",
       "\n",
       "    .dataframe thead th {\n",
       "        text-align: right;\n",
       "    }\n",
       "</style>\n",
       "<table border=\"1\" class=\"dataframe\">\n",
       "  <thead>\n",
       "    <tr style=\"text-align: right;\">\n",
       "      <th></th>\n",
       "      <th>lncRNAId</th>\n",
       "      <th>lncRNAName</th>\n",
       "      <th>pvalue</th>\n",
       "      <th>mm_pvalue</th>\n",
       "      <th>mp_pvalue</th>\n",
       "      <th>pm_pvalue</th>\n",
       "      <th>pp_pvalue</th>\n",
       "    </tr>\n",
       "  </thead>\n",
       "  <tbody>\n",
       "    <tr>\n",
       "      <th>19</th>\n",
       "      <td>ENSG00000229852_ASO_G0229852_05</td>\n",
       "      <td>RP11-398K22.12</td>\n",
       "      <td>0.000159</td>\n",
       "      <td>1.000000</td>\n",
       "      <td>0.187840</td>\n",
       "      <td>0.000039</td>\n",
       "      <td>1.000000</td>\n",
       "    </tr>\n",
       "    <tr>\n",
       "      <th>31</th>\n",
       "      <td>ENSG00000229852_ASO_G0229852_03</td>\n",
       "      <td>RP11-398K22.12</td>\n",
       "      <td>0.000495</td>\n",
       "      <td>0.070984</td>\n",
       "      <td>0.299873</td>\n",
       "      <td>0.000064</td>\n",
       "      <td>0.817211</td>\n",
       "    </tr>\n",
       "  </tbody>\n",
       "</table>\n",
       "</div>"
      ],
      "text/plain": [
       "                           lncRNAId      lncRNAName    pvalue  mm_pvalue  \\\n",
       "19  ENSG00000229852_ASO_G0229852_05  RP11-398K22.12  0.000159   1.000000   \n",
       "31  ENSG00000229852_ASO_G0229852_03  RP11-398K22.12  0.000495   0.070984   \n",
       "\n",
       "    mp_pvalue  pm_pvalue  pp_pvalue  \n",
       "19   0.187840   0.000039   1.000000  \n",
       "31   0.299873   0.000064   0.817211  "
      ]
     },
     "execution_count": 16,
     "metadata": {},
     "output_type": "execute_result"
    }
   ],
   "source": [
    "df_pv[df_pv.lncRNAName == \"RP11-398K22.12\"]"
   ]
  }
 ],
 "metadata": {
  "kernelspec": {
   "display_name": "himorna-env",
   "language": "python",
   "name": "python3"
  },
  "language_info": {
   "codemirror_mode": {
    "name": "ipython",
    "version": 3
   },
   "file_extension": ".py",
   "mimetype": "text/x-python",
   "name": "python",
   "nbconvert_exporter": "python",
   "pygments_lexer": "ipython3",
   "version": "3.10.8"
  },
  "vscode": {
   "interpreter": {
    "hash": "bc83d715584c81c384428b34e43e0861c7be8b28ad7023527f87d368b5282d78"
   }
  }
 },
 "nbformat": 4,
 "nbformat_minor": 2
}
