{
 "cells": [
  {
   "cell_type": "code",
   "execution_count": null,
   "id": "ecafdb7d",
   "metadata": {},
   "outputs": [],
   "source": [
    "import pandas as pd\n",
    "import numpy as np\n",
    "import matplotlib as mpl"
   ]
  },
  {
   "cell_type": "code",
   "execution_count": null,
   "id": "c86b6e1c",
   "metadata": {},
   "outputs": [],
   "source": [
    "#https://fantom.gsc.riken.jp/6/datafiles/Core_FANTOM6/RELEASE_latest/expression_tables/Set1_human_dermal_fibroblasts/CAGE/\n",
    "#expression.count.gene.nAnT-iCAGE.None.human_dermal_fibroblasts.tsv.bz2"
   ]
  },
  {
   "cell_type": "code",
   "execution_count": null,
   "id": "1355ad04",
   "metadata": {},
   "outputs": [],
   "source": [
    "nc=pd.read_csv(\"expression.count.gene.nAnT-iCAGE.None.human_dermal_fibroblasts.tsv\", sep='\\t', header=None)"
   ]
  },
  {
   "cell_type": "code",
   "execution_count": null,
   "id": "22e6e971",
   "metadata": {},
   "outputs": [],
   "source": [
    "nc_id = np.array(nc.loc[85707:124050, 1:])\n",
    "nc_id=pd.DataFrame(nc_id.astype(float).mean(axis=1))\n",
    "nc_id=np.log10(nc_id+1)\n",
    "expr=nc_id.sort_values(by=0)[0]\n",
    "ensg=[]\n",
    "for elem in (nc_id.sort_values(by=0).index+85707):\n",
    "  ensg.append(nc[0][elem])\n",
    "df=pd.DataFrame({\"ensg\":ensg, \"expr\":expr})\n",
    "max_expr=df.iloc[-1, 1]\n",
    "nc_high=df[df[\"expr\"]>= 0.2*max_expr][\"ensg\"].to_numpy()\n",
    "nc_low=df[(df[\"expr\"]<= 0.2*max_expr) & (df[\"expr\"] != 0)][\"ensg\"].to_numpy()\n",
    "nc_zero=df[df[\"expr\"]== 0][\"ensg\"].to_numpy()\n",
    "\n",
    "with open(\"nc_high.txt\", 'w') as f:\n",
    "  for i in range(len(nc_high)):\n",
    "    f.write(nc_high[i]+ '\\n')\n",
    "with open(\"nc_low.txt\", 'w') as f:\n",
    "  for i in range(len(nc_low)):\n",
    "    f.write(nc_low[i]+ '\\n')\n",
    "with open(\"nc_zero.txt\", 'w') as f:\n",
    "  for i in range(len(nc_zero)):\n",
    "    f.write(nc_zero[i]+ '\\n') "
   ]
  }
 ],
 "metadata": {
  "kernelspec": {
   "display_name": "Python 3 (ipykernel)",
   "language": "python",
   "name": "python3"
  },
  "language_info": {
   "codemirror_mode": {
    "name": "ipython",
    "version": 3
   },
   "file_extension": ".py",
   "mimetype": "text/x-python",
   "name": "python",
   "nbconvert_exporter": "python",
   "pygments_lexer": "ipython3",
   "version": "3.9.7"
  }
 },
 "nbformat": 4,
 "nbformat_minor": 5
}
