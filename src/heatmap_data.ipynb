{
 "cells": [
  {
   "cell_type": "code",
   "execution_count": 10,
   "metadata": {},
   "outputs": [],
   "source": [
    "import pandas as pd\n",
    "import pickle\n",
    "%matplotlib inline\n",
    "import numpy as np\n",
    "import matplotlib.pyplot as plt\n",
    "from collections import defaultdict\n",
    "import scipy.stats as stats\n",
    "from statsmodels.stats.multitest import multipletests\n",
    "\n",
    "# from BCBio import GFF\n",
    "# from Bio.Seq import Seq\n",
    "# from Bio.SeqUtils import GC\n",
    "# from Bio.SeqRecord import SeqRecord\n",
    "# from Bio.SeqFeature import SeqFeature, FeatureLocation\n",
    "# import mygene\n",
    "# import h5py\n",
    "\n",
    "import seaborn as sns\n",
    "import matplotlib.pyplot as plt\n",
    "from matplotlib import rcParams\n",
    "import matplotlib.patches as patches\n",
    "from matplotlib.colors import LinearSegmentedColormap"
   ]
  },
  {
   "cell_type": "code",
   "execution_count": 11,
   "metadata": {},
   "outputs": [],
   "source": [
    "targets = [(\"H3K27ac\", \"_narrow\"), (\"H3K36me3\", \"\"), \n",
    "           (\"H3K4me1\", \"_narrow\"), (\"H3K4me2\", \"_narrow\"), (\"H3K4me3\", \"_narrow\"), (\"H3K79me2\", \"\"), \n",
    "           (\"H3K9ac\", \"_narrow\"), (\"H3K9me3\", \"\"), (\"H4K20me1\", \"\"), (\"H3K27me3\", \"\"), (\"methylation\", \"\")]"
   ]
  },
  {
   "cell_type": "code",
   "execution_count": 12,
   "metadata": {},
   "outputs": [],
   "source": [
    "#Строим таблицу, где строки это все возможные lnc, для которых есть хотя бы одно значимое пересечение хотя бы для одной метки\n",
    "#а столбцы мультииндекс по метке и по типу\n",
    "def getTableForAllMarks(iMARGI=False, annotation_prefix=\"\"):\n",
    "    g_annotation_prefix = annotation_prefix + \"_\" if annotation_prefix else \"\"\n",
    "    annotation_prefix = \"_\" + annotation_prefix if annotation_prefix else \"\"\n",
    "    \n",
    "    df_first = pd.read_csv(\"../data/all_marks/\" + targets[0][0] + \"/our_fantom\" + annotation_prefix + \"_genes_association_pvalues.tsv\", sep=\"\\t\")\n",
    "    df_first['lncRNAName'] = [\"_\".join([name] + i.split('_')[1:]) for i, name in zip(df_first['lncRNAId'], df_first['lncRNAName'])]\n",
    "    if(iMARGI):\n",
    "        g = pd.read_csv(\"../data/all_marks/\" + targets[0][0] + \"/\" + g_annotation_prefix + \"genometric_result_all_rnas.tsv\", sep=\"\\t\")\n",
    "        df_first = df_first[df_first['lncRNAId'].isin(g['lnc'])][['lncRNAName', 'pm_pvalue', 'mm_pvalue', 'pp_pvalue', 'mp_pvalue']]\n",
    "    else:\n",
    "        df_first = df_first[['lncRNAName', 'pm_pvalue', 'mm_pvalue', 'pp_pvalue', 'mp_pvalue']]\n",
    "        \n",
    "    for i in range(1, len(targets)):\n",
    "        df_second = pd.read_csv(\"../data/all_marks/\" + targets[i][0] + \"/our_fantom\" + annotation_prefix + \"_genes_association_pvalues.tsv\", sep=\"\\t\")\n",
    "        df_second['lncRNAName'] = [\"_\".join([name] + i.split('_')[1:]) for i, name in zip(df_second['lncRNAId'], df_second['lncRNAName'])]\n",
    "        if(iMARGI):\n",
    "            g = pd.read_csv(\"../data/all_marks/\" + targets[i][0] + \"/\" + g_annotation_prefix + \"genometric_result_all_rnas.tsv\", sep=\"\\t\")\n",
    "            df_second = df_second[df_second['lncRNAId'].isin(g['lnc'])][['lncRNAName', 'pm_pvalue', 'mm_pvalue', 'pp_pvalue', 'mp_pvalue']]\n",
    "        else:\n",
    "            df_second = df_second[['lncRNAName', 'pm_pvalue', 'mm_pvalue', 'pp_pvalue', 'mp_pvalue']]\n",
    "            \n",
    "        df_first = df_first.merge(df_second, how=\"outer\", left_on='lncRNAName', right_on='lncRNAName')\n",
    "    \n",
    "    df_first = df_first.set_index('lncRNAName')\n",
    "    # del df_first.index.name\n",
    "    df_first = df_first.applymap(lambda x: 0 if np.isnan(x) else -np.log10(x))\n",
    "    columns_index_1 = [\"H3K27ac\", \"H3K36me3\", \"H3K4me1\", \"H3K4me2\", \"H3K4me3\", \"H3K79me2\", \"H3K9ac\", \"H3K9me3\", \"H4K20me1\", \"H3K27me3\", \"Methylation\"]\n",
    "    columns_index_2 = ['wa', 'ea', 'wr', 'er']\n",
    "    df_first.columns = pd.MultiIndex.from_product([columns_index_1, columns_index_2], names=['target', 'type'])\n",
    "    \n",
    "    np.unravel_index(np.argmax(df_first.values, axis=None), df_first.values.shape)\n",
    "    \n",
    "    #df_first = df_first.drop('EMX2OS')\n",
    "    \n",
    "    return df_first"
   ]
  },
  {
   "cell_type": "code",
   "execution_count": 13,
   "metadata": {},
   "outputs": [],
   "source": [
    "def getDataWithoutASOs(iMARGI=False, clusters=False):\n",
    "    df = getTableForAllMarks(iMARGI=iMARGI, annotation_prefix=\"fantom_aso\")\n",
    "    df = df.mask(df < 1.3, 0)\n",
    "    df['geneName'] = [i.split('_')[0] for i in df.index]\n",
    "    b = df.groupby(['geneName']).apply(check_asos)\n",
    "    b = b.drop(['geneName'], axis=1)\n",
    "    b = b[b.astype(bool).sum(axis=1) > 0]\n",
    "    if clusters:\n",
    "        return b.apply(add_cluster, axis = 1, result_type=\"expand\")\n",
    "    else:\n",
    "        return b"
   ]
  },
  {
   "cell_type": "code",
   "execution_count": 14,
   "metadata": {},
   "outputs": [],
   "source": [
    "def check_asos(df):\n",
    "    count = pd.DataFrame({\"nonzero_count\" : df.astype(bool).sum(axis=0)})['nonzero_count']\n",
    "    if df.shape[0] == 1:  # Нет нескольких ASO - 1\n",
    "        return count\n",
    "    else:\n",
    "        s = pd.Series([2 if b else 0 for b in count > df.shape[0]/2], index=count.index)\n",
    "        return s"
   ]
  },
  {
   "cell_type": "code",
   "execution_count": 15,
   "metadata": {},
   "outputs": [
    {
     "name": "stderr",
     "output_type": "stream",
     "text": [
      "/var/folders/rr/y6pny26x4dzgmtp6k582dywc0000gn/T/ipykernel_31906/2281268381.py:24: FutureWarning: Passing 'suffixes' which cause duplicate columns {'mm_pvalue_x', 'pm_pvalue_x', 'pp_pvalue_x', 'mp_pvalue_x'} in the result is deprecated and will raise a MergeError in a future version.\n",
      "  df_first = df_first.merge(df_second, how=\"outer\", left_on='lncRNAName', right_on='lncRNAName')\n",
      "/var/folders/rr/y6pny26x4dzgmtp6k582dywc0000gn/T/ipykernel_31906/2281268381.py:24: FutureWarning: Passing 'suffixes' which cause duplicate columns {'mm_pvalue_x', 'pm_pvalue_x', 'pp_pvalue_x', 'mp_pvalue_x'} in the result is deprecated and will raise a MergeError in a future version.\n",
      "  df_first = df_first.merge(df_second, how=\"outer\", left_on='lncRNAName', right_on='lncRNAName')\n",
      "/var/folders/rr/y6pny26x4dzgmtp6k582dywc0000gn/T/ipykernel_31906/2281268381.py:24: FutureWarning: Passing 'suffixes' which cause duplicate columns {'mm_pvalue_x', 'pm_pvalue_x', 'pp_pvalue_x', 'mp_pvalue_x'} in the result is deprecated and will raise a MergeError in a future version.\n",
      "  df_first = df_first.merge(df_second, how=\"outer\", left_on='lncRNAName', right_on='lncRNAName')\n",
      "/var/folders/rr/y6pny26x4dzgmtp6k582dywc0000gn/T/ipykernel_31906/2281268381.py:24: FutureWarning: Passing 'suffixes' which cause duplicate columns {'mm_pvalue_x', 'pm_pvalue_x', 'pp_pvalue_x', 'mp_pvalue_x'} in the result is deprecated and will raise a MergeError in a future version.\n",
      "  df_first = df_first.merge(df_second, how=\"outer\", left_on='lncRNAName', right_on='lncRNAName')\n",
      "/var/folders/rr/y6pny26x4dzgmtp6k582dywc0000gn/T/ipykernel_31906/2812299489.py:6: PerformanceWarning: dropping on a non-lexsorted multi-index without a level parameter may impact performance.\n",
      "  b = b.drop(['geneName'], axis=1)\n"
     ]
    }
   ],
   "source": [
    "data = getDataWithoutASOs(iMARGI=False)\n",
    "# https://stackoverflow.com/a/55757002/310453\n",
    "data.columns = [\"-\".join(a) for a in data.columns.to_flat_index()]\n",
    "data.to_csv('../data/heatmap_data.genes.tsv', sep=\"\\t\")"
   ]
  },
  {
   "cell_type": "code",
   "execution_count": 16,
   "metadata": {},
   "outputs": [
    {
     "name": "stderr",
     "output_type": "stream",
     "text": [
      "/var/folders/rr/y6pny26x4dzgmtp6k582dywc0000gn/T/ipykernel_31906/2281268381.py:24: FutureWarning: Passing 'suffixes' which cause duplicate columns {'mm_pvalue_x', 'pm_pvalue_x', 'pp_pvalue_x', 'mp_pvalue_x'} in the result is deprecated and will raise a MergeError in a future version.\n",
      "  df_first = df_first.merge(df_second, how=\"outer\", left_on='lncRNAName', right_on='lncRNAName')\n",
      "/var/folders/rr/y6pny26x4dzgmtp6k582dywc0000gn/T/ipykernel_31906/2281268381.py:24: FutureWarning: Passing 'suffixes' which cause duplicate columns {'mm_pvalue_x', 'pm_pvalue_x', 'pp_pvalue_x', 'mp_pvalue_x'} in the result is deprecated and will raise a MergeError in a future version.\n",
      "  df_first = df_first.merge(df_second, how=\"outer\", left_on='lncRNAName', right_on='lncRNAName')\n",
      "/var/folders/rr/y6pny26x4dzgmtp6k582dywc0000gn/T/ipykernel_31906/2281268381.py:24: FutureWarning: Passing 'suffixes' which cause duplicate columns {'mm_pvalue_x', 'pm_pvalue_x', 'pp_pvalue_x', 'mp_pvalue_x'} in the result is deprecated and will raise a MergeError in a future version.\n",
      "  df_first = df_first.merge(df_second, how=\"outer\", left_on='lncRNAName', right_on='lncRNAName')\n",
      "/var/folders/rr/y6pny26x4dzgmtp6k582dywc0000gn/T/ipykernel_31906/2281268381.py:24: FutureWarning: Passing 'suffixes' which cause duplicate columns {'mm_pvalue_x', 'pm_pvalue_x', 'pp_pvalue_x', 'mp_pvalue_x'} in the result is deprecated and will raise a MergeError in a future version.\n",
      "  df_first = df_first.merge(df_second, how=\"outer\", left_on='lncRNAName', right_on='lncRNAName')\n",
      "/var/folders/rr/y6pny26x4dzgmtp6k582dywc0000gn/T/ipykernel_31906/2812299489.py:6: PerformanceWarning: dropping on a non-lexsorted multi-index without a level parameter may impact performance.\n",
      "  b = b.drop(['geneName'], axis=1)\n"
     ]
    }
   ],
   "source": [
    "data = getDataWithoutASOs(iMARGI=True)\n",
    "data.columns = [\"-\".join(a) for a in data.columns.to_flat_index()]\n",
    "data.to_csv('../data/heatmap_data.genes_imargi.tsv', sep=\"\\t\")"
   ]
  },
  {
   "cell_type": "code",
   "execution_count": 17,
   "metadata": {},
   "outputs": [
    {
     "name": "stderr",
     "output_type": "stream",
     "text": [
      "/var/folders/rr/y6pny26x4dzgmtp6k582dywc0000gn/T/ipykernel_31906/2281268381.py:24: FutureWarning: Passing 'suffixes' which cause duplicate columns {'mm_pvalue_x', 'pm_pvalue_x', 'pp_pvalue_x', 'mp_pvalue_x'} in the result is deprecated and will raise a MergeError in a future version.\n",
      "  df_first = df_first.merge(df_second, how=\"outer\", left_on='lncRNAName', right_on='lncRNAName')\n",
      "/var/folders/rr/y6pny26x4dzgmtp6k582dywc0000gn/T/ipykernel_31906/2281268381.py:24: FutureWarning: Passing 'suffixes' which cause duplicate columns {'mm_pvalue_x', 'pm_pvalue_x', 'pp_pvalue_x', 'mp_pvalue_x'} in the result is deprecated and will raise a MergeError in a future version.\n",
      "  df_first = df_first.merge(df_second, how=\"outer\", left_on='lncRNAName', right_on='lncRNAName')\n",
      "/var/folders/rr/y6pny26x4dzgmtp6k582dywc0000gn/T/ipykernel_31906/2281268381.py:24: FutureWarning: Passing 'suffixes' which cause duplicate columns {'mm_pvalue_x', 'pm_pvalue_x', 'pp_pvalue_x', 'mp_pvalue_x'} in the result is deprecated and will raise a MergeError in a future version.\n",
      "  df_first = df_first.merge(df_second, how=\"outer\", left_on='lncRNAName', right_on='lncRNAName')\n",
      "/var/folders/rr/y6pny26x4dzgmtp6k582dywc0000gn/T/ipykernel_31906/2281268381.py:24: FutureWarning: Passing 'suffixes' which cause duplicate columns {'mm_pvalue_x', 'pm_pvalue_x', 'pp_pvalue_x', 'mp_pvalue_x'} in the result is deprecated and will raise a MergeError in a future version.\n",
      "  df_first = df_first.merge(df_second, how=\"outer\", left_on='lncRNAName', right_on='lncRNAName')\n"
     ]
    }
   ],
   "source": [
    "data = getTableForAllMarks(annotation_prefix=\"fantom_aso\").sort_index()\n",
    "data.columns = [\"-\".join(a) for a in data.columns.to_flat_index()]\n",
    "data.to_csv('../data/heatmap_data.asos.tsv', sep=\"\\t\")"
   ]
  },
  {
   "cell_type": "code",
   "execution_count": 18,
   "metadata": {},
   "outputs": [
    {
     "name": "stderr",
     "output_type": "stream",
     "text": [
      "/var/folders/rr/y6pny26x4dzgmtp6k582dywc0000gn/T/ipykernel_31906/2281268381.py:24: FutureWarning: Passing 'suffixes' which cause duplicate columns {'mm_pvalue_x', 'pm_pvalue_x', 'pp_pvalue_x', 'mp_pvalue_x'} in the result is deprecated and will raise a MergeError in a future version.\n",
      "  df_first = df_first.merge(df_second, how=\"outer\", left_on='lncRNAName', right_on='lncRNAName')\n",
      "/var/folders/rr/y6pny26x4dzgmtp6k582dywc0000gn/T/ipykernel_31906/2281268381.py:24: FutureWarning: Passing 'suffixes' which cause duplicate columns {'mm_pvalue_x', 'pm_pvalue_x', 'pp_pvalue_x', 'mp_pvalue_x'} in the result is deprecated and will raise a MergeError in a future version.\n",
      "  df_first = df_first.merge(df_second, how=\"outer\", left_on='lncRNAName', right_on='lncRNAName')\n",
      "/var/folders/rr/y6pny26x4dzgmtp6k582dywc0000gn/T/ipykernel_31906/2281268381.py:24: FutureWarning: Passing 'suffixes' which cause duplicate columns {'mm_pvalue_x', 'pm_pvalue_x', 'pp_pvalue_x', 'mp_pvalue_x'} in the result is deprecated and will raise a MergeError in a future version.\n",
      "  df_first = df_first.merge(df_second, how=\"outer\", left_on='lncRNAName', right_on='lncRNAName')\n",
      "/var/folders/rr/y6pny26x4dzgmtp6k582dywc0000gn/T/ipykernel_31906/2281268381.py:24: FutureWarning: Passing 'suffixes' which cause duplicate columns {'mm_pvalue_x', 'pm_pvalue_x', 'pp_pvalue_x', 'mp_pvalue_x'} in the result is deprecated and will raise a MergeError in a future version.\n",
      "  df_first = df_first.merge(df_second, how=\"outer\", left_on='lncRNAName', right_on='lncRNAName')\n"
     ]
    }
   ],
   "source": [
    "data = getTableForAllMarks(iMARGI=True, annotation_prefix=\"fantom_aso\").sort_index()\n",
    "data.columns = [\"-\".join(a) for a in data.columns.to_flat_index()]\n",
    "data.to_csv('../data/heatmap_data.asos_imargi.tsv', sep=\"\\t\")"
   ]
  }
 ],
 "metadata": {
  "kernelspec": {
   "display_name": "himorna-env",
   "language": "python",
   "name": "python3"
  },
  "language_info": {
   "codemirror_mode": {
    "name": "ipython",
    "version": 3
   },
   "file_extension": ".py",
   "mimetype": "text/x-python",
   "name": "python",
   "nbconvert_exporter": "python",
   "pygments_lexer": "ipython3",
   "version": "3.10.0"
  },
  "vscode": {
   "interpreter": {
    "hash": "bc83d715584c81c384428b34e43e0861c7be8b28ad7023527f87d368b5282d78"
   }
  }
 },
 "nbformat": 4,
 "nbformat_minor": 2
}
