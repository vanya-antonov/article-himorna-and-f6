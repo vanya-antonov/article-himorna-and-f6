{
 "cells": [
  {
   "cell_type": "code",
   "execution_count": 3,
   "metadata": {},
   "outputs": [
    {
     "name": "stdout",
     "output_type": "stream",
     "text": [
      "157\n"
     ]
    }
   ],
   "source": [
    "!cut -f9 ../data/ASO_names.info | sort | uniq | wc -l"
   ]
  },
  {
   "cell_type": "code",
   "execution_count": 5,
   "metadata": {},
   "outputs": [
    {
     "name": "stdout",
     "output_type": "stream",
     "text": [
      "350 ../data/ASO_names.info\n"
     ]
    }
   ],
   "source": [
    "# Out of the \\MARK{XXX} analyzed lncRNA knockdowns from FANTOM6 project\n",
    "!wc -l ../data/ASO_names.info"
   ]
  }
 ],
 "metadata": {
  "kernelspec": {
   "display_name": "himorna-env",
   "language": "python",
   "name": "python3"
  },
  "language_info": {
   "codemirror_mode": {
    "name": "ipython",
    "version": 3
   },
   "file_extension": ".py",
   "mimetype": "text/x-python",
   "name": "python",
   "nbconvert_exporter": "python",
   "pygments_lexer": "ipython3",
   "version": "3.10.8"
  },
  "vscode": {
   "interpreter": {
    "hash": "bc83d715584c81c384428b34e43e0861c7be8b28ad7023527f87d368b5282d78"
   }
  }
 },
 "nbformat": 4,
 "nbformat_minor": 2
}
