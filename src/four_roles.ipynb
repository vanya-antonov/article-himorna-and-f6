{
 "cells": [
  {
   "cell_type": "code",
   "execution_count": 1,
   "metadata": {},
   "outputs": [],
   "source": [
    "import pandas as pd\n",
    "import scipy.stats as stats\n",
    "from statsmodels.stats.multitest import multipletests\n",
    "from pprint import pprint"
   ]
  },
  {
   "cell_type": "code",
   "execution_count": 2,
   "metadata": {},
   "outputs": [],
   "source": [
    "ASO_ID = \"ASO_G0229852_03\"\n",
    "confusion_matrix_fn = \"../data/all_marks/H3K27ac/our_fantom_fantom_aso_genes_confusion_matrix.tsv\"\n",
    "genes_association_fn = \"../data/all_marks/H3K27ac/our_fantom_fantom_aso_genes_association.tsv\""
   ]
  },
  {
   "cell_type": "code",
   "execution_count": 3,
   "metadata": {},
   "outputs": [],
   "source": [
    "def makeExactFisherTestFromFiles(confusion_matrix_fn, genes_association_fn):\n",
    "    confuion_df = pd.read_csv(confusion_matrix_fn, sep=\"\\t\") \n",
    "    df = pd.read_csv(genes_association_fn, sep=\"\\t\") \n",
    "    \n",
    "    pvalue = []\n",
    "    mm_pvalue = []\n",
    "    mp_pvalue = []\n",
    "    pm_pvalue = []\n",
    "    pp_pvalue = []\n",
    "    for index, row in confuion_df.iterrows():\n",
    "        _, pv = stats.fisher_exact([[row['TP'], row['FP']], [row['FN'], row['TN']]])\n",
    "        pvalue.append(pv)\n",
    "\n",
    "        _, mm_pv = stats.fisher_exact([[row['mm_TP'], row['mm_FP']], [row['mm_FN'], row['mm_TN']]])\n",
    "        mm_pvalue.append(mm_pv)\n",
    "\n",
    "        _, mp_pv = stats.fisher_exact([[row['mp_TP'], row['mp_FP']], [row['mp_FN'], row['mp_TN']]])\n",
    "        mp_pvalue.append(mp_pv)\n",
    "\n",
    "        _, pm_pv = stats.fisher_exact([[row['pm_TP'], row['pm_FP']], [row['pm_FN'], row['pm_TN']]])\n",
    "        pm_pvalue.append(pm_pv)\n",
    "\n",
    "        _, pp_pv = stats.fisher_exact([[row['pp_TP'], row['pp_FP']], [row['pp_FN'], row['pp_TN']]])  \n",
    "        pp_pvalue.append(pp_pv)\n",
    "        \n",
    "    adjusted_pvalue = multipletests(pvalue, alpha=0.05, method='fdr_bh')\n",
    "    adjusted_mm_pvalue = multipletests(mm_pvalue, alpha=0.05, method='fdr_bh')\n",
    "    adjusted_mp_pvalue = multipletests(mp_pvalue, alpha=0.05, method='fdr_bh')\n",
    "    adjusted_pm_pvalue = multipletests(pm_pvalue, alpha=0.05, method='fdr_bh')\n",
    "    adjusted_pp_pvalue = multipletests(pp_pvalue, alpha=0.05, method='fdr_bh')\n",
    "    \n",
    "    pvalue_df = pd.DataFrame({\n",
    "        \"pvalue\": pvalue,\n",
    "        \"mm_pvalue\": mm_pvalue,\n",
    "        \"mp_pvalue\": mp_pvalue,\n",
    "        \"pm_pvalue\": pm_pvalue,\n",
    "        \"pp_pvalue\": pp_pvalue,\n",
    "        'adj_pvalue': adjusted_pvalue[1],\n",
    "        'mm_adj_pvalue': adjusted_mm_pvalue[1],\n",
    "        'mp_adj_pvalue': adjusted_mp_pvalue[1],\n",
    "        'pm_adj_pvalue': adjusted_pm_pvalue[1],\n",
    "        'pp_adj_pvalue': adjusted_pp_pvalue[1]})\n",
    "    \n",
    "    df_pv = pd.concat([df[['lncRNAId', 'lncRNAName']], pvalue_df], axis = 1)\n",
    "    df_pv = df_pv[df_pv.apply(lambda row: len([p for p in row.tolist()[3:] if float(p) < 0.05]) != 0, axis=1)]\n",
    "    # df_pv.to_csv(\"../all_marks/\" + target + \"/\" + our_fantom_file_name + annotation_prefix + \"_genes_association_pvalues.tsv\", sep=\"\\t\", index=None)\n",
    "    \n",
    "    return df_pv"
   ]
  },
  {
   "cell_type": "code",
   "execution_count": 4,
   "metadata": {},
   "outputs": [
    {
     "name": "stdout",
     "output_type": "stream",
     "text": [
      "\n",
      "FANTOM:\n",
      "596 downregulated genes\n",
      "432 upregulated genes\n",
      "\n",
      "HIMORNA:\n",
      "884 genes associated with positively correlated regions\n",
      "502 genes associated with positively correlated regions\n"
     ]
    }
   ],
   "source": [
    "aso_df = pd.read_csv(genes_association_fn, sep=\"\\t\")\n",
    "aso_dict = aso_df[aso_df[\"lncRNAId\"].str.contains(ASO_ID)].to_dict(orient=\"records\")[0]\n",
    "\n",
    "# pprint(aso_dict)\n",
    "\n",
    "print(\"\\nFANTOM:\")\n",
    "print(f\"{aso_dict['fantom_m']} downregulated genes\")\n",
    "print(f\"{aso_dict['fantom_p']} upregulated genes\")\n",
    "\n",
    "\n",
    "print(\"\\nHIMORNA:\")\n",
    "print(f\"{aso_dict['our_p']} genes associated with positively correlated regions\")\n",
    "print(f\"{aso_dict['our_m']} genes associated with positively correlated regions\")\n"
   ]
  },
  {
   "cell_type": "markdown",
   "metadata": {},
   "source": [
    "### pp => wa\n",
    "1st \"p\" => positive correlation between lncRNA and the level of a histone mark => lncRNA writes the mark => **writer (w)**\n",
    "\n",
    "2nd \"p\" => after lncRNA knockdown the expression of a nearby gene *increases* => in normal cells (i.e. without knockdown) lncRNA *downregulates* expression of the gene.\n",
    "\n",
    "Taking into account that lncRNA is *writer*, the only way it can *downregulate* gene expression is that it *writes a repressive mark* => its molecular role is \"Writer of a Repressive mark (wa)\"\n",
    "\n",
    "### pm => wr\n",
    "1st \"p\" => positive correlation between lncRNA and the level of a histone mark => lncRNA writes the mark => **writer (w)**\n",
    "\n",
    "2nd \"m\" => after lncRNA knockdown the expression of a nearby gene *decreases* => in normal cells (i.e. without knockdown) lncRNA *upregulates* expression of the gene.\n",
    "\n",
    "Taking into account that lncRNA is writer, the only way it can decrease gene expression is that it *writes a repressive mark* => its molecular role is \"Writer of a Repressive mark (wr)\"\n",
    "\n",
    "### mp => ea\n",
    "1st \"m\" => negative correlation between lncRNA and the level of a histone mark => lncRNA removes the mark => **eraser (e)**\n",
    "\n",
    "2nd \"p\" => after lncRNA knockdown the expression of a nearby gene *increases* => in normal cells (i.e. without knockdown) lncRNA *downregulates* expression of the gene.\n",
    "\n",
    "Taking into account that lncRNA is *eraser*, the only way it can *downregulate* gene expression is that it *erases an active mark* => its molecular role is \"Eraser of an Active mark (ea)\"\n",
    "\n",
    "### mm => er\n",
    "1st \"m\" => negative correlation between lncRNA and the level of a histone mark => lncRNA removes the mark => **eraser (e)**\n",
    "\n",
    "2nd \"m\" => after lncRNA knockdown the expression of a nearby gene *decreases* => in normal cells (i.e. without knockdown) lncRNA *upregulates* expression of the gene.\n",
    "\n",
    "Taking into account that lncRNA is eraser, the only way it can upregulate gene expression is that it removes repressive mark => its molecular role is \"Eraser of a Repressive mark (er)\""
   ]
  },
  {
   "cell_type": "code",
   "execution_count": 5,
   "metadata": {},
   "outputs": [
    {
     "name": "stdout",
     "output_type": "stream",
     "text": [
      "Writer of Active mark (wa)\n",
      "10\t874\n",
      "422\t23395\n",
      "\n",
      "Writer of a Repressive mark (wr)\n",
      "43\t841\n",
      "553\t23264\n",
      "\n",
      "Eraser of a Repressive mark (er)\n",
      "14\t488\n",
      "418\t23781\n",
      "\n",
      "Eraser of Active mark (ea)\n",
      "20\t482\n",
      "576\t23623\n"
     ]
    }
   ],
   "source": [
    "association_df = pd.read_csv(genes_association_fn, sep=\"\\t\") \n",
    "confuion_df = pd.read_csv(confusion_matrix_fn, sep=\"\\t\") \n",
    "tmp_df = pd.concat([association_df[['lncRNAId', 'lncRNAName']], confuion_df], axis = 1)\n",
    "confuion_dict = tmp_df[tmp_df[\"lncRNAId\"].str.contains(ASO_ID)].to_dict(orient=\"records\")[0]\n",
    "\n",
    "# pp => wa\n",
    "print(\"Writer of Active mark (wa)\")\n",
    "print(f\"{confuion_dict['pp_TP']}\\t{confuion_dict['pp_FP']}\")\n",
    "print(f\"{confuion_dict['pp_FN']}\\t{confuion_dict['pp_TN']}\")\n",
    "\n",
    "# pm => wr\n",
    "print(\"\\nWriter of a Repressive mark (wr)\")\n",
    "print(f\"{confuion_dict['pm_TP']}\\t{confuion_dict['pm_FP']}\")\n",
    "print(f\"{confuion_dict['pm_FN']}\\t{confuion_dict['pm_TN']}\")\n",
    "\n",
    "# mp => er\n",
    "print(\"\\nEraser of a Repressive mark (er)\")\n",
    "print(f\"{confuion_dict['mp_TP']}\\t{confuion_dict['mp_FP']}\")\n",
    "print(f\"{confuion_dict['mp_FN']}\\t{confuion_dict['mp_TN']}\")\n",
    "\n",
    "# mm == ea\n",
    "print(\"\\nEraser of Active mark (ea)\")\n",
    "print(f\"{confuion_dict['mm_TP']}\\t{confuion_dict['mm_FP']}\")\n",
    "print(f\"{confuion_dict['mm_FN']}\\t{confuion_dict['mm_TN']}\")\n",
    "\n",
    "# print()\n",
    "# pprint(confuion_dict)"
   ]
  },
  {
   "cell_type": "code",
   "execution_count": 6,
   "metadata": {},
   "outputs": [
    {
     "name": "stdout",
     "output_type": "stream",
     "text": [
      "Writer of Active mark (wa)\n",
      "0.18949825977458126\n",
      "\n",
      "Writer of a Repressive mark (wr)\n",
      "1.574219431726213e-05\n",
      "\n",
      "Eraser of a Repressive mark (er)\n",
      "0.08257385927117494\n",
      "\n",
      "Eraser of Active mark (ea)\n",
      "0.026747640568317743\n"
     ]
    }
   ],
   "source": [
    "pvalue_df = makeExactFisherTestFromFiles(confusion_matrix_fn, genes_association_fn)\n",
    "pvalue_dict = pvalue_df[pvalue_df[\"lncRNAId\"].str.contains(ASO_ID)].to_dict(orient=\"records\")[0]\n",
    "\n",
    "# pp => wa\n",
    "print(\"Writer of Active mark (wa)\")\n",
    "print(pvalue_dict[\"pp_pvalue\"])\n",
    "\n",
    "# pm => wr\n",
    "print(\"\\nWriter of a Repressive mark (wr)\")\n",
    "print(pvalue_dict[\"pm_pvalue\"])\n",
    "\n",
    "# mp => er\n",
    "print(\"\\nEraser of a Repressive mark (er)\")\n",
    "print(pvalue_dict[\"mp_pvalue\"])\n",
    "\n",
    "# mm == ea\n",
    "print(\"\\nEraser of Active mark (ea)\")\n",
    "print(pvalue_dict[\"mm_pvalue\"])\n",
    "\n",
    "# pprint(pvalue_dict)"
   ]
  },
  {
   "cell_type": "code",
   "execution_count": 7,
   "metadata": {},
   "outputs": [
    {
     "name": "stdout",
     "output_type": "stream",
     "text": [
      "Writer of Active mark (wa)\n",
      "0.8172112452778817\n",
      "\n",
      "Writer of a Repressive mark (wr)\n",
      "6.38947886994757e-05\n",
      "\n",
      "Eraser of a Repressive mark (er)\n",
      "0.29987348893216165\n",
      "\n",
      "Eraser of Active mark (ea)\n",
      "0.0709841230466894\n"
     ]
    }
   ],
   "source": [
    "# pp => wa\n",
    "print(\"Writer of Active mark (wa)\")\n",
    "print(pvalue_dict[\"pp_adj_pvalue\"])\n",
    "\n",
    "# pm => wr\n",
    "print(\"\\nWriter of a Repressive mark (wr)\")\n",
    "print(pvalue_dict[\"pm_adj_pvalue\"])\n",
    "\n",
    "# mp => er\n",
    "print(\"\\nEraser of a Repressive mark (er)\")\n",
    "print(pvalue_dict[\"mp_adj_pvalue\"])\n",
    "\n",
    "# mm == ea\n",
    "print(\"\\nEraser of Active mark (ea)\")\n",
    "print(pvalue_dict[\"mm_adj_pvalue\"])"
   ]
  },
  {
   "attachments": {},
   "cell_type": "markdown",
   "metadata": {},
   "source": [
    "## Интерпретация\n",
    "В мешке 24701 шаров (все гены) из них 596 красные (FANTOM downregulated genes). Мы вытаскиваем из мешка 884 шара (предсказания HIMORNA), среди них 43 оказываются красные (это TP). Какова вероятность такого события?\n",
    "\n",
    "Для этого надо посчитать другие характеристики:\n",
    "* all_balls = все шары в мешке = 24701\n",
    "* all_red = все красные шары в мешке = 596\n",
    "* all_white = все белые шары в мешке = all_balls - all_red = 24105\n",
    "* drawn_all = общее кол-во вынутых шаров = 884\n",
    "* drawn_red = кол-во красных шаров среди вынутых  = 43\n",
    "* drawn_white = кол-во красных шаров среди вынутых = drawn_all - drawn_red = 841\n",
    "* TP = кол-во вынутых красных шаров = drawn_red = 43\n",
    "* FP = кол-во белых шаров среди вытащенных = drawn_white = 841\n",
    "* FN = кол-во красных шаров, которые остались в мешке = all_red - drawn_red = 596 - 43 = 553\n",
    "* TN = кол-во белых шаров, которые остались в мешке = all_white - drawn_white = 24105 - 841 = 23264"
   ]
  },
  {
   "cell_type": "code",
   "execution_count": 8,
   "metadata": {},
   "outputs": [
    {
     "data": {
      "text/plain": [
       "[43, 841, 553, 23264, 24105, 841]"
      ]
     },
     "execution_count": 8,
     "metadata": {},
     "output_type": "execute_result"
    }
   ],
   "source": [
    "# makeConfusionMatrix(target[0], annotation_prefix=\"fantom_aso\", common_genes_set_length=24701)\n",
    "all_balls = 24701\n",
    "all_red = 596\n",
    "all_white = all_balls - all_red\n",
    "drawn_all = 884\n",
    "drawn_red = 43\n",
    "drawn_white = drawn_all - drawn_red\n",
    "\n",
    "TP = drawn_red\n",
    "FP = drawn_all - drawn_red\n",
    "FN = all_red - drawn_red\n",
    "TN = all_white - drawn_white\n",
    "[TP, FP, FN, TN, all_white, drawn_white]"
   ]
  },
  {
   "cell_type": "code",
   "execution_count": 9,
   "metadata": {},
   "outputs": [
    {
     "data": {
      "text/plain": [
       "1.574219431726213e-05"
      ]
     },
     "execution_count": 9,
     "metadata": {},
     "output_type": "execute_result"
    }
   ],
   "source": [
    "TP = 43\n",
    "FP = 841\n",
    "FN = 553\n",
    "TN = 23264\n",
    "_, pv = stats.fisher_exact([[TP, FP], [FN, TN]])\n",
    "pv"
   ]
  }
 ],
 "metadata": {
  "kernelspec": {
   "display_name": "himorna-env",
   "language": "python",
   "name": "python3"
  },
  "language_info": {
   "codemirror_mode": {
    "name": "ipython",
    "version": 3
   },
   "file_extension": ".py",
   "mimetype": "text/x-python",
   "name": "python",
   "nbconvert_exporter": "python",
   "pygments_lexer": "ipython3",
   "version": "3.10.8"
  },
  "vscode": {
   "interpreter": {
    "hash": "bc83d715584c81c384428b34e43e0861c7be8b28ad7023527f87d368b5282d78"
   }
  }
 },
 "nbformat": 4,
 "nbformat_minor": 2
}
